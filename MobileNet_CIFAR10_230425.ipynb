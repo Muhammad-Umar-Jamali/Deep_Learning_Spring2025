{
  "nbformat": 4,
  "nbformat_minor": 0,
  "metadata": {
    "colab": {
      "provenance": [],
      "gpuType": "T4"
    },
    "kernelspec": {
      "name": "python3",
      "display_name": "Python 3"
    },
    "language_info": {
      "name": "python"
    },
    "accelerator": "GPU"
  },
  "cells": [
    {
      "cell_type": "code",
      "execution_count": 1,
      "metadata": {
        "colab": {
          "base_uri": "https://localhost:8080/"
        },
        "id": "rCH6PREtQhdi",
        "outputId": "62ebbb4d-26c3-4a99-ad6d-92a255a3f4b1"
      },
      "outputs": [
        {
          "output_type": "stream",
          "name": "stdout",
          "text": [
            "Epoch 1/5\n",
            "\u001b[1m1563/1563\u001b[0m \u001b[32m━━━━━━━━━━━━━━━━━━━━\u001b[0m\u001b[37m\u001b[0m \u001b[1m56s\u001b[0m 26ms/step - accuracy: 0.6727 - loss: 0.9676 - val_accuracy: 0.8000 - val_loss: 0.5663\n",
            "Epoch 2/5\n",
            "\u001b[1m1563/1563\u001b[0m \u001b[32m━━━━━━━━━━━━━━━━━━━━\u001b[0m\u001b[37m\u001b[0m \u001b[1m60s\u001b[0m 17ms/step - accuracy: 0.7796 - loss: 0.6465 - val_accuracy: 0.8140 - val_loss: 0.5369\n",
            "Epoch 3/5\n",
            "\u001b[1m1563/1563\u001b[0m \u001b[32m━━━━━━━━━━━━━━━━━━━━\u001b[0m\u001b[37m\u001b[0m \u001b[1m28s\u001b[0m 17ms/step - accuracy: 0.7947 - loss: 0.5942 - val_accuracy: 0.8148 - val_loss: 0.5368\n",
            "Epoch 4/5\n",
            "\u001b[1m1563/1563\u001b[0m \u001b[32m━━━━━━━━━━━━━━━━━━━━\u001b[0m\u001b[37m\u001b[0m \u001b[1m43s\u001b[0m 19ms/step - accuracy: 0.8042 - loss: 0.5651 - val_accuracy: 0.8232 - val_loss: 0.5146\n",
            "Epoch 5/5\n",
            "\u001b[1m1563/1563\u001b[0m \u001b[32m━━━━━━━━━━━━━━━━━━━━\u001b[0m\u001b[37m\u001b[0m \u001b[1m39s\u001b[0m 17ms/step - accuracy: 0.8126 - loss: 0.5434 - val_accuracy: 0.8197 - val_loss: 0.5229\n",
            "313/313 - 3s - 11ms/step - accuracy: 0.8197 - loss: 0.5229\n",
            "Test Accuracy: 81.97%\n"
          ]
        }
      ],
      "source": [
        "import tensorflow as tf\n",
        "from tensorflow.keras import layers, models\n",
        "from tensorflow.keras.applications import MobileNetV2\n",
        "\n",
        "# Enable mixed precision\n",
        "tf.keras.mixed_precision.set_global_policy('mixed_float16')\n",
        "\n",
        "# Hyperparameters\n",
        "num_epochs = 5\n",
        "learning_rate = 0.001\n",
        "batch_size = 32\n",
        "resize_to = (160, 160)\n",
        "\n",
        "# Load CIFAR-10\n",
        "(x_train, y_train), (x_test, y_test) = tf.keras.datasets.cifar10.load_data()\n",
        "\n",
        "# Build tf.data.Dataset\n",
        "def preprocess(image, label):\n",
        "    image = tf.image.resize(image, resize_to)\n",
        "    image = tf.cast(image, tf.float32) / 255.0\n",
        "    return image, label\n",
        "\n",
        "train_ds = tf.data.Dataset.from_tensor_slices((x_train, y_train))\n",
        "train_ds = train_ds.map(preprocess, num_parallel_calls=tf.data.AUTOTUNE)\n",
        "train_ds = train_ds.shuffle(5000).batch(batch_size).prefetch(tf.data.AUTOTUNE)\n",
        "\n",
        "test_ds = tf.data.Dataset.from_tensor_slices((x_test, y_test))\n",
        "test_ds = test_ds.map(preprocess, num_parallel_calls=tf.data.AUTOTUNE)\n",
        "test_ds = test_ds.batch(batch_size).prefetch(tf.data.AUTOTUNE)\n",
        "\n",
        "# Build model\n",
        "base_model = MobileNetV2(weights='imagenet', include_top=False, input_shape=(160,160,3))\n",
        "base_model.trainable = False  # Freeze\n",
        "\n",
        "model = models.Sequential([\n",
        "    base_model,\n",
        "    layers.GlobalAveragePooling2D(),\n",
        "    layers.Dense(256, activation='relu'),\n",
        "    layers.Dropout(0.5),\n",
        "    layers.Dense(10, activation='softmax', dtype='float32')  # Output back to float32\n",
        "])\n",
        "\n",
        "# Compile\n",
        "model.compile(optimizer=tf.keras.optimizers.Adam(learning_rate=learning_rate),\n",
        "              loss='sparse_categorical_crossentropy',\n",
        "              metrics=['accuracy'])\n",
        "\n",
        "# Train\n",
        "history = model.fit(train_ds, epochs=num_epochs, validation_data=test_ds)\n",
        "\n",
        "# Evaluate\n",
        "test_loss, test_acc = model.evaluate(test_ds, verbose=2)\n",
        "print(f'Test Accuracy: {test_acc * 100:.2f}%')\n"
      ]
    }
  ]
}