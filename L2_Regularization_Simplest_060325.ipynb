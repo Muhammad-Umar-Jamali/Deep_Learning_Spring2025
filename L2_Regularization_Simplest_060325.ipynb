{
  "nbformat": 4,
  "nbformat_minor": 0,
  "metadata": {
    "colab": {
      "provenance": []
    },
    "kernelspec": {
      "name": "python3",
      "display_name": "Python 3"
    },
    "language_info": {
      "name": "python"
    }
  },
  "cells": [
    {
      "cell_type": "code",
      "execution_count": 3,
      "metadata": {
        "colab": {
          "base_uri": "https://localhost:8080/"
        },
        "id": "KZA286VUt473",
        "outputId": "b322114a-f136-4b55-98f8-2770dfe66f1e"
      },
      "outputs": [
        {
          "output_type": "stream",
          "name": "stdout",
          "text": [
            "Initial prediction: 6\n",
            "Regularized loss: 5.0\n",
            "Gradient: 5\n",
            "Updated weight: 2.5\n",
            "Iteration 1: Updated weight = 2.25, Loss = 3.125\n",
            "Iteration 2: Updated weight = 2.125, Loss = 2.65625\n",
            "Iteration 3: Updated weight = 2.0625, Loss = 2.5390625\n",
            "Iteration 4: Updated weight = 2.03125, Loss = 2.509765625\n",
            "Iteration 5: Updated weight = 2.015625, Loss = 2.50244140625\n"
          ]
        }
      ],
      "source": [
        "# Step 1: Define the parameters\n",
        "x = 2  # Input feature\n",
        "y = 5  # True label\n",
        "w = 3  # Initial weight\n",
        "alpha = 0.1  # Learning rate\n",
        "lambda_ = 1  # Regularization parameter\n",
        "\n",
        "# Step 2: Compute the prediction\n",
        "y_pred = w * x\n",
        "print(f\"Initial prediction: {y_pred}\")\n",
        "\n",
        "# Step 3: Compute the regularized loss\n",
        "loss = 0.5 * (y - y_pred)**2 + 0.5 * lambda_ * w**2\n",
        "print(f\"Regularized loss: {loss}\")\n",
        "\n",
        "# Step 4: Compute the gradient\n",
        "gradient = -x * (y - y_pred) + lambda_ * w\n",
        "print(f\"Gradient: {gradient}\")\n",
        "\n",
        "# Step 5: Update the weight\n",
        "w_new = w - alpha * gradient\n",
        "print(f\"Updated weight: {w_new}\")\n",
        "\n",
        "# Step 6: Repeat the process\n",
        "# Uncomment the following lines to repeat the process for multiple iterations:\n",
        "\n",
        "for i in range(5):  # Run for 5 iterations\n",
        "    y_pred = w_new * x\n",
        "    loss = 0.5 * (y - y_pred)**2 + 0.5 * lambda_ * w_new**2\n",
        "    gradient = -x * (y - y_pred) + lambda_ * w_new\n",
        "    w_new = w_new - alpha * gradient\n",
        "    print(f\"Iteration {i+1}: Updated weight = {w_new}, Loss = {loss}\")\n"
      ]
    }
  ]
}